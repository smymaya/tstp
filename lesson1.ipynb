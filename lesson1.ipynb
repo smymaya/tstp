{
 "cells": [
  {
   "cell_type": "markdown",
   "metadata": {},
   "source": [
    "# Print three different strings\n",
    "\n",
    "### 1. Write a program that prints a message if a variable is less than 10, and a different message if the variable is greater than or equal to 10.\n",
    "\n",
    "### 2. Write a program that prints a message if a variable is less than or euqal to 10, another message if the variable is greater than 10 but less than or equal to 25, and another message if the variable is greater than 25.\n",
    "\n",
    "### 3. Create a progranm that divists two varaibles and prints the remainder.\n",
    "\n",
    "### 4. Create a program that takes two varaibles, divides themm, and prints the quotient.\n",
    "\n",
    "### 5. Create a program that takes two varaibles \"age\" asisgned tro an integer that prints different strings depending on what integer \"age\" is."
   ]
  },
  {
   "cell_type": "code",
   "execution_count": 26,
   "metadata": {},
   "outputs": [
    {
     "name": "stdout",
     "output_type": "stream",
     "text": [
      "Enter a number between 1-20: 5\n",
      "Your dog ate 5 burritos.\n"
     ]
    }
   ],
   "source": [
    "number = int(input('Enter a number between 1-20: '))\n",
    "if number < 10:\n",
    "    print(\"Your dog ate \" + str(number) + \" burritos.\")\n",
    "elif number >= 10:\n",
    "    print(\"There are \" + str(number) + \" apples on the tree.\")"
   ]
  },
  {
   "cell_type": "code",
   "execution_count": 18,
   "metadata": {},
   "outputs": [
    {
     "name": "stdout",
     "output_type": "stream",
     "text": [
      "Enter a number between 1-100:3\n",
      "There are 3 stars in the sky.\n"
     ]
    }
   ],
   "source": [
    "number = int(input('Enter a number between 1-100:'))\n",
    "if number <= 10:\n",
    "    print(\"There are \" + str(number) + \" stars in the sky.\")\n",
    "elif number >= 10 and number <= 25:\n",
    "    print(\"The society is \" + str(number) + \"% woke.\")\n",
    "elif number > 25:\n",
    "    print(number + \" elephants in a group are called a memory of elephants.\")"
   ]
  },
  {
   "cell_type": "code",
   "execution_count": 30,
   "metadata": {},
   "outputs": [
    {
     "name": "stdout",
     "output_type": "stream",
     "text": [
      "give me a random number: 7\n",
      "another random number that is smaller than the first: 5\n",
      "did you know the remainder for 7 divided by 5 is 2? I bet you didn't.\n"
     ]
    }
   ],
   "source": [
    "import math\n",
    "\n",
    "a = int(input('give me a random number: '))\n",
    "b = int(input('another random number that is smaller than the first: '))\n",
    "\n",
    "c = a - (math.floor(a/b))*b\n",
    "print(\"did you know the remainder for \" + str(a)+ \" divided by \" + str(b) + \" is \" + str(c) + \"? I bet you didn't.\")"
   ]
  },
  {
   "cell_type": "code",
   "execution_count": null,
   "metadata": {},
   "outputs": [],
   "source": []
  }
 ],
 "metadata": {
  "kernelspec": {
   "display_name": "Python 3",
   "language": "python",
   "name": "python3"
  },
  "language_info": {
   "codemirror_mode": {
    "name": "ipython",
    "version": 3
   },
   "file_extension": ".py",
   "mimetype": "text/x-python",
   "name": "python",
   "nbconvert_exporter": "python",
   "pygments_lexer": "ipython3",
   "version": "3.8.5"
  }
 },
 "nbformat": 4,
 "nbformat_minor": 4
}
